{
 "cells": [
  {
   "cell_type": "markdown",
   "id": "e2780a1e",
   "metadata": {},
   "source": [
    "# Face-recognition"
   ]
  },
  {
   "cell_type": "code",
   "execution_count": null,
   "id": "3685000a",
   "metadata": {},
   "outputs": [],
   "source": [
    "import numpy as np\n",
    "import pandas as pd\n",
    "import matplotlib.pyplot as plt\n",
    "import os\n",
    "import cv2\n",
    "from keras.models import load_model\n",
    "from keras.preprocessing import image\n",
    "from keras.preprocessing.image import img_to_array\n",
    "from keras.preprocessing.image import ImageDataGenerator\n",
    "from keras.layers import Dense, Input, Dropout, GlobalAveragePooling2D, Flatten, Conv2D, BatchNormalization, Activation, MaxPooling2D\n",
    "from keras.models import Model, Sequential\n",
    "from keras.optimizers import Adam\n",
    "from sklearn.model_selection import train_test_split\n",
    "\n",
    "# Définir le chemin d'accès aux images\n",
    "folder_path = \"C:\\\\Users\\\\MSI\\\\Downloads\\\\archive (5)\"\n",
    "train_folder = os.path.join(\"C:\\\\Users\\\\MSI\\\\Downloads\\\\archive (5)\", \"train\")\n",
    "\n",
    "test_folder = os.path.join(\"C:\\\\Users\\\\MSI\\\\Downloads\\\\archive (5)\", 'test')\n",
    "\n",
    "# Taille des images\n",
    "picture_size = 48\n",
    "\n"
   ]
  },
  {
   "cell_type": "code",
   "execution_count": null,
   "id": "fda85d35",
   "metadata": {},
   "outputs": [],
   "source": [
    "def load_images_from_folder(folder):\n",
    "    images = []\n",
    "    labels = []\n",
    "    if not os.path.exists(folder):\n",
    "        raise FileNotFoundError(f\"Le dossier {folder} n'existe pas.\")\n",
    "    \n",
    "    for label in os.listdir(folder):\n",
    "        label_folder = os.path.join(folder, label)\n",
    "        \n",
    "        # Vérifiez si c'est un dossier\n",
    "        if not os.path.isdir(label_folder):\n",
    "            print(f\"Avertissement: {label_folder} n'est pas un dossier.\")\n",
    "            continue\n",
    "        \n",
    "        for img_file in os.listdir(label_folder):\n",
    "            img_path = os.path.join(label_folder, img_file)\n",
    "            print(f\"Tentative de chargement de l'image : {img_path}\")  # Affichage du chemin\n",
    "            \n",
    "            img = cv2.imread(img_path)\n",
    "            \n",
    "            # Vérifiez si l'image a été chargée avec succès\n",
    "            if img is None:\n",
    "                print(f\"Avertissement: Impossible de charger l'image à partir du chemin: {img_path}\")\n",
    "                continue  # Passez à l'image suivante si l'image n'est pas valide\n",
    "            \n",
    "            img = cv2.resize(img, (picture_size, picture_size))\n",
    "            img = img_to_array(img)\n",
    "            images.append(img)\n",
    "            labels.append(label)  # Ajoutez ici l'étiquette correspondante\n",
    "    \n",
    "    return np.array(images), np.array(labels)\n",
    "\n",
    "# Charger les données d'entraînement et de test\n",
    "X_train, y_train = load_images_from_folder(train_folder)\n",
    "\n",
    "# Vérifiez si le dossier de test existe avant de charger\n",
    "if not os.path.exists(test_folder):\n",
    "    print(f\"Le dossier de test {test_folder} n'existe pas. Veuillez vérifier la structure du dossier.\")\n",
    "else:\n",
    "    X_test, y_test = load_images_from_folder(test_folder)\n"
   ]
  },
  {
   "cell_type": "code",
   "execution_count": null,
   "id": "91b73d30",
   "metadata": {},
   "outputs": [],
   "source": [
    "\n",
    "# Charger les données d'entraînement et de test\n",
    "X_train, y_train = load_images_from_folder(train_folder)\n",
    "X_test, y_test = load_images_from_folder(test_folder)\n",
    "\n",
    "# Normaliser les données\n",
    "X_train = X_train.astype('float32') / 255.0\n",
    "X_test = X_test.astype('float32') / 255.0"
   ]
  },
  {
   "cell_type": "code",
   "execution_count": null,
   "id": "8b94e99e",
   "metadata": {},
   "outputs": [],
   "source": [
    "# Convertir les étiquettes en catégories\n",
    "from sklearn.preprocessing import LabelEncoder\n",
    "from keras.utils import to_categorical\n",
    "\n",
    "label_encoder = LabelEncoder()\n",
    "y_train_encoded = label_encoder.fit_transform(y_train)\n",
    "y_test_encoded = label_encoder.transform(y_test)\n",
    "\n",
    "y_train_categorical = to_categorical(y_train_encoded)\n",
    "y_test_categorical = to_categorical(y_test_encoded)"
   ]
  },
  {
   "cell_type": "code",
   "execution_count": null,
   "id": "3ba30471",
   "metadata": {},
   "outputs": [],
   "source": [
    "# Création du modèle CNN\n",
    "model = Sequential()\n",
    "model.add(Conv2D(32, (3, 3), padding='same', input_shape=(picture_size, picture_size, 3)))\n",
    "model.add(Activation('relu'))\n",
    "model.add(MaxPooling2D(pool_size=(2, 2)))\n",
    "model.add(Dropout(0.25))\n",
    "\n",
    "model.add(Conv2D(64, (3, 3), padding='same'))\n",
    "model.add(Activation('relu'))\n",
    "model.add(MaxPooling2D(pool_size=(2, 2)))\n",
    "model.add(Dropout(0.25))\n",
    "\n",
    "model.add(Conv2D(128, (3, 3), padding='same'))\n",
    "model.add(Activation('relu'))\n",
    "model.add(MaxPooling2D(pool_size=(2, 2)))\n",
    "model.add(Dropout(0.25))\n",
    "\n",
    "model.add(Flatten())\n",
    "model.add(Dense(128))\n",
    "model.add(Activation('relu'))\n",
    "model.add(Dropout(0.5))\n",
    "model.add(Dense(len(np.unique(y_train))))\n",
    "model.add(Activation('softmax'))\n",
    "\n",
    "# Compiler le modèle\n",
    "model.compile(loss='categorical_crossentropy', optimizer=Adam(), metrics=['accuracy'])"
   ]
  },
  {
   "cell_type": "code",
   "execution_count": null,
   "id": "cdac7230",
   "metadata": {},
   "outputs": [],
   "source": [
    "# Entraîner le modèle\n",
    "model.fit(X_train, y_train_categorical, validation_data=(X_test, y_test_categorical), epochs=10, batch_size=32)\n",
    "\n",
    "# Évaluer le modèle\n",
    "loss, accuracy = model.evaluate(X_test, y_test_categorical)\n",
    "print(f\"Test Loss: {loss:.4f}, Test Accuracy: {accuracy:.4f}\")\n",
    "\n",
    "# Sauvegarder le modèle\n",
    "model.save(\"face_recognition_model.h5\")"
   ]
  },
  {
   "cell_type": "code",
   "execution_count": null,
   "id": "6dbfd09a",
   "metadata": {},
   "outputs": [],
   "source": []
  },
  {
   "cell_type": "code",
   "execution_count": null,
   "id": "7edae5c6",
   "metadata": {},
   "outputs": [],
   "source": []
  }
 ],
 "metadata": {
  "kernelspec": {
   "display_name": "Python 3 (ipykernel)",
   "language": "python",
   "name": "python3"
  },
  "language_info": {
   "codemirror_mode": {
    "name": "ipython",
    "version": 3
   },
   "file_extension": ".py",
   "mimetype": "text/x-python",
   "name": "python",
   "nbconvert_exporter": "python",
   "pygments_lexer": "ipython3",
   "version": "3.11.5"
  }
 },
 "nbformat": 4,
 "nbformat_minor": 5
}
